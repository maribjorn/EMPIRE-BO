{
 "cells": [
  {
   "cell_type": "markdown",
   "metadata": {},
   "source": [
    "Packages"
   ]
  },
  {
   "cell_type": "code",
   "execution_count": 1,
   "metadata": {},
   "outputs": [],
   "source": [
    "import pandas as pd\n",
    "from openpyxl import load_workbook"
   ]
  },
  {
   "cell_type": "markdown",
   "metadata": {},
   "source": [
    "Parameters"
   ]
  },
  {
   "cell_type": "code",
   "execution_count": 2,
   "metadata": {},
   "outputs": [],
   "source": [
    "Horizon = 2040\n",
    "start_year = 2020\n",
    "LeapYearsInvestment = 5\n",
    "total_periods = int((Horizon - start_year)/LeapYearsInvestment)\n",
    "\n",
    "bus_map = load_workbook('data_pypsa/bus_map30.xlsx').active\n",
    "new_names_2 = [cell.value for cell in bus_map['A'][1:]]"
   ]
  },
  {
   "cell_type": "markdown",
   "metadata": {},
   "source": [
    "General.xlsx"
   ]
  },
  {
   "cell_type": "code",
   "execution_count": null,
   "metadata": {},
   "outputs": [],
   "source": []
  },
  {
   "cell_type": "markdown",
   "metadata": {},
   "source": [
    "Generator.xlsx"
   ]
  },
  {
   "cell_type": "code",
   "execution_count": null,
   "metadata": {},
   "outputs": [],
   "source": [
    "pypsa_tech = load_workbook('data_pypsa/technologies.xlsx').active"
   ]
  },
  {
   "cell_type": "markdown",
   "metadata": {},
   "source": [
    "Node.xlsx"
   ]
  },
  {
   "cell_type": "code",
   "execution_count": 4,
   "metadata": {},
   "outputs": [],
   "source": [
    "workbook = load_workbook('Data handler/bolivia_v1/Node.xlsx')\n",
    "pypsa_load = load_workbook('data_pypsa/load_per_gen30.xlsx').active\n",
    "load_dict = {row[0]: row[1] for row in pypsa_load.iter_rows(min_row=2, values_only=True)}\n",
    "\n",
    "for sheet in workbook.sheetnames:\n",
    "    current_sheet = workbook[sheet]\n",
    "\n",
    "    nodes_positions = {'A3': ('B3', 1), 'E3': ('F3', 5)}\n",
    "    \n",
    "    for node_cell_ref, (period_cell_ref, col_index) in nodes_positions.items():\n",
    "        if current_sheet[node_cell_ref].value == 'Nodes':\n",
    "            # Check if the cell next to \"Nodes\" contains \"Period\"\n",
    "            if current_sheet[period_cell_ref].value == 'Period':\n",
    "                # Logic for handling periods\n",
    "                start_row = current_sheet[node_cell_ref].row + 1\n",
    "                \n",
    "                # Repeat names for each period\n",
    "                for period_index in range(total_periods):\n",
    "                    period_start_row = start_row + (period_index * len(new_names_2))\n",
    "                    \n",
    "                    # Fill names for the current period\n",
    "                    for i, name in enumerate(new_names_2, start=period_start_row):\n",
    "                        current_sheet.cell(row=i, column=col_index, value=name)\n",
    "                        current_sheet.cell(row=i, column=col_index + 1, value=period_index + 1)\n",
    "\n",
    "                        if period_index == 0:\n",
    "                            current_sheet.cell(row=i, column=col_index + 2, value=load_dict[name])\n",
    "                            \n",
    "\n",
    "                # Clear cells after the last period's names, if necessary\n",
    "                last_name_row = start_row + (total_periods * len(new_names_2))\n",
    "                for i in range(last_name_row, current_sheet.max_row + 1):\n",
    "                    if current_sheet.cell(row=i, column=col_index).value or current_sheet.cell(row=i, column=col_index + 1).value:\n",
    "                        current_sheet.cell(row=i, column=col_index).value = None\n",
    "                        current_sheet.cell(row=i, column=col_index + 1).value = None\n",
    "            else:\n",
    "                max_row = current_sheet[node_cell_ref].row + len(new_names_2)\n",
    "                # Fill names directly if no \"Period\" is next to \"Nodes\"\n",
    "                for i, name in enumerate(new_names_2, start=current_sheet[node_cell_ref].row + 1):\n",
    "                    current_sheet.cell(row=i, column=col_index, value=name)\n",
    "\n",
    "                for i in range(max_row + 1, current_sheet.max_row + 1):\n",
    "                    if current_sheet.cell(row=i, column=col_index).value is not None:\n",
    "                        current_sheet.cell(row=i, column=col_index).value = None\n",
    "\n",
    "workbook.save('Data handler/bolivia_v1/Node.xlsx')\n",
    "\n"
   ]
  },
  {
   "cell_type": "markdown",
   "metadata": {},
   "source": [
    "Sets.xlsx"
   ]
  },
  {
   "cell_type": "code",
   "execution_count": null,
   "metadata": {},
   "outputs": [],
   "source": [
    "file_path = 'Data handler/bolivia_v1/Sets.xlsx'\n",
    "workbook = load_workbook(file_path)\n",
    "\n",
    "# Nodes\n",
    "\n",
    "node_sheet = workbook['Nodes']\n",
    "\n",
    "max_row = node_sheet['A1'].row + len(new_names_2)\n",
    "# Fill names directly if no \"Period\" is next to \"Nodes\"\n",
    "for i, name in enumerate(new_names_2, start=node_sheet['A1'].row + 1):\n",
    "    node_sheet.cell(row=i, column=1, value=name)\n",
    "\n",
    "for i in range(max_row + 1, node_sheet.max_row + 1):\n",
    "    if node_sheet.cell(row=i, column=1).value is not None:\n",
    "        node_sheet.cell(row=i, column=1).value = None\n",
    "\n",
    "\n",
    "# OffshoreNodes\n",
    "\n",
    "offshore_node_sheet = workbook['OffshoreNodes']\n",
    "max_row = offshore_node_sheet.max_row\n",
    "\n",
    "for i in range(1, max_row):\n",
    "    if offshore_node_sheet.cell(row=i + 1, column=1).value is not None:\n",
    "        offshore_node_sheet.cell(row=i + 1, column=1).value = None\n",
    "\n",
    "\n",
    "# Horizon\n",
    "\n",
    "\n",
    "# Storage\n",
    "\n",
    "\n",
    "# Technology\n",
    "\n",
    "\n",
    "# Generators\n",
    "\n",
    "\n",
    "# LineType\n",
    "\n",
    "\n",
    "# HourOfSeason\n",
    "\n",
    "\n",
    "# StorageOfNodes\n",
    "\n",
    "\n",
    "# DirectionalLines\n",
    "line_connections = workbook['DirectionalLines']\n",
    "pypsa_connections = load_workbook('data_pypsa/lines30.xlsx').active\n",
    "\n",
    "for index, row in enumerate(pypsa_connections.iter_rows(min_row=2, values_only=True), start=1):\n",
    "    value_a, value_b = row[1], row[2]\n",
    "\n",
    "    line_connections.cell(row=index + 3, column=1, value=value_a)\n",
    "    line_connections.cell(row=index + 3, column=2, value=value_b)\n",
    "\n",
    "max_row = 2 + len(pypsa_connections['A'])\n",
    "for i in range(max_row + 1, line_connections.max_row + 1):\n",
    "    for col in range(1, 4): \n",
    "        if line_connections.cell(row=i, column=col).value is not None:\n",
    "            line_connections.cell(row=i, column=col).value = None\n",
    "\n",
    "# LineTypeOfDirectionalLines\n",
    "line_type_connections = workbook['LineTypeOfDirectionalLines']\n",
    "\n",
    "for index, row in enumerate(pypsa_connections.iter_rows(min_row=2, values_only=True), start=1):\n",
    "    value_a, value_b = row[1], row[2]\n",
    "\n",
    "    line_type_connections.cell(row=index + 3, column=1, value=value_a)\n",
    "    line_type_connections.cell(row=index + 3, column=2, value=value_b)\n",
    "    line_type_connections.cell(row=index + 3, column=3, value='HVAC_OverheadLine')\n",
    "\n",
    "for i in range(max_row + 1, line_type_connections.max_row + 1):\n",
    "    for col in range(1, 4): \n",
    "        if line_type_connections.cell(row=i, column=col).value is not None:\n",
    "            line_type_connections.cell(row=i, column=col).value = None\n",
    "\n",
    "\n",
    "\n",
    "\n",
    "# GeneratorsOfNode\n",
    "\n",
    "\n",
    "# GeneratorsOfTechnology\n",
    "\n",
    "\n",
    "# Coords\n",
    "\n",
    "coord_sheet = workbook['Coords']\n",
    "pypsa_coords = load_workbook('data_pypsa/buses_EMPIRE.xlsx').active\n",
    "max_row = 4 + len(new_names_2)\n",
    "\n",
    "for index, row in enumerate(pypsa_coords.iter_rows(min_row=2, values_only=True), start=1):\n",
    "    node, x, y = row[0], row[3], row[4]\n",
    "    coord_sheet.cell(row=index + 3, column=1, value=node)\n",
    "    coord_sheet.cell(row=index + 3, column=2, value=y)\n",
    "    coord_sheet.cell(row=index + 3, column=3, value=x)\n",
    "\n",
    "for i in range(max_row, coord_sheet.max_row + 1):\n",
    "    for col in range(1, 4): \n",
    "        if coord_sheet.cell(row=i, column=col).value is not None:\n",
    "            coord_sheet.cell(row=i, column=col).value = None\n",
    "\n",
    "workbook.save(file_path)"
   ]
  }
 ],
 "metadata": {
  "kernelspec": {
   "display_name": "empire_env",
   "language": "python",
   "name": "python3"
  },
  "language_info": {
   "codemirror_mode": {
    "name": "ipython",
    "version": 3
   },
   "file_extension": ".py",
   "mimetype": "text/x-python",
   "name": "python",
   "nbconvert_exporter": "python",
   "pygments_lexer": "ipython3",
   "version": "3.11.0"
  }
 },
 "nbformat": 4,
 "nbformat_minor": 2
}
