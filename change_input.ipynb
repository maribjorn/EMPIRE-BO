{
 "cells": [
  {
   "cell_type": "markdown",
   "metadata": {},
   "source": [
    "Packages"
   ]
  },
  {
   "cell_type": "code",
   "execution_count": 5,
   "metadata": {},
   "outputs": [],
   "source": [
    "import pandas as pd\n",
    "from openpyxl import load_workbook"
   ]
  },
  {
   "cell_type": "markdown",
   "metadata": {},
   "source": [
    "Parameters"
   ]
  },
  {
   "cell_type": "code",
   "execution_count": 6,
   "metadata": {},
   "outputs": [],
   "source": [
    "Horizon = 2040\n",
    "start_year = 2020\n",
    "LeapYearsInvestment = 5\n",
    "new_names = ['Santivanez', 'San Julian', 'Las Carreras', 'Mazocruz', 'Litio/Lipez', 'Carrasco', 'Sucre', 'Yacuiba', 'San Borja', 'Vinto/Emvinto', 'Paraiso',\n",
    "                 'Bélgica', 'Torre Huayco', 'Potosi 115', 'San Jose', 'Caranavi', 'Guarayos', 'Padilla', 'Choquetanga', 'Brechas', 'Bermejo', 'Catavi', 'Villazon',\n",
    "                 'Yapacani', 'Chimoré', 'Punutuma', 'Los Troncos', 'Cumbre', 'San Buenaventura', 'Palca']  # Update this list as needed\n",
    "\n",
    "new_names_2 = ['BO0 0', 'BO0 1', 'BO0 2', 'BO0 3', 'BO0 4', 'BO0 5', 'BO0 6', 'BO0 7', 'BO0 8', 'BO0 9', 'BO0 10', 'BO0 11', 'BO0 12', 'BO0 13', 'BO0 14', 'BO0 15', \n",
    "               'BO0 16', 'BO0 17', 'BO0 18', 'BO0 19', 'BO0 20', 'BO0 21', 'BO0 22', 'BO0 23', 'BO0 24', 'BO0 25', 'BO0 26', 'BO0 27', 'BO0 28', 'BO0 29']  # Update this list as needed\n",
    "\n",
    "coordinates = {'BO0 0': (-17.50198333333333, -66.09689999999999), 'BO0 1': (-17.7841, -63.08126666666667), 'BO0 10': (-14.896499999999998, -65.10613333333333), 'BO0 11': (-17.55445, -63.2141), \n",
    "               'BO0 12': (-21.27574, -65.9961), 'BO0 13': (-19.505483333333334, -65.663), 'BO0 14': (-17.182975, -65.823575), 'BO0 15': (-15.796666666666667, -67.80593333333333), 'BO0 16': (-15.9453, -63.1888), \n",
    "               'BO0 17': (-19.69686666666667, -63.92243333333332), 'BO0 18': (-17.42935, -67.3567), 'BO0 19': (-18.2243, -63.18155), 'BO0 2': (-21.4542, -64.84936666666668), 'BO0 20': (-22.7078, -64.3097), \n",
    "               'BO0 21': (-18.25975, -66.65504999999999), 'BO0 22': (-22.0711, -65.5978), 'BO0 23': (-17.4035, -63.68823333333333), 'BO0 24': (-17.212266666666665, -65.29656666666666), 'BO0 25': (-20.435000000000002, -66.48495), \n",
    "               'BO0 26': (-17.0607, -62.6414), 'BO0 27': (-16.3995, -68.1172), 'BO0 28': (-14.4585, -67.5867), 'BO0 29': (-16.42046666666667, -67.84089999999999), 'BO0 3': (-16.619775, -68.224575), 'BO0 4': (-20.9966, -67.2132), \n",
    "               'BO0 5': (-17.20415, -64.52085), 'BO0 6': (-18.974233333333334, -65.44093333333332), 'BO0 7': (-21.6932, -63.5614), 'BO0 8': (-15.02415, -66.8965), 'BO0 9': (-17.831033333333334, -67.0628)}"
   ]
  },
  {
   "cell_type": "markdown",
   "metadata": {},
   "source": [
    "Node.xlsx"
   ]
  },
  {
   "cell_type": "code",
   "execution_count": 7,
   "metadata": {},
   "outputs": [],
   "source": [
    "file_path = 'Data handler/bolivia_v1/Node.xlsx'\n",
    "workbook = load_workbook(file_path)\n",
    "\n",
    "\n",
    "total_periods = int((Horizon - start_year)/LeapYearsInvestment)\n",
    "for sheet in workbook.sheetnames:\n",
    "    current_sheet = workbook[sheet]\n",
    "\n",
    "    nodes_positions = {'A3': ('B3', 1), 'E3': ('F3', 5)}\n",
    "    \n",
    "    for node_cell_ref, (period_cell_ref, col_index) in nodes_positions.items():\n",
    "        if current_sheet[node_cell_ref].value == 'Nodes':\n",
    "            # Check if the cell next to \"Nodes\" contains \"Period\"\n",
    "            if current_sheet[period_cell_ref].value == 'Period':\n",
    "                # Logic for handling periods\n",
    "                start_row = current_sheet[node_cell_ref].row + 1\n",
    "                \n",
    "                # Repeat names for each period\n",
    "                for period_index in range(total_periods):\n",
    "                    period_start_row = start_row + (period_index * len(new_names_2))\n",
    "                    \n",
    "                    # Fill names for the current period\n",
    "                    for i, name in enumerate(new_names_2, start=period_start_row):\n",
    "                        current_sheet.cell(row=i, column=col_index, value=name)\n",
    "                        current_sheet.cell(row=i, column=col_index + 1, value=period_index + 1)\n",
    "\n",
    "                # Clear cells after the last period's names, if necessary\n",
    "                last_name_row = start_row + (total_periods * len(new_names_2))\n",
    "                for i in range(last_name_row, current_sheet.max_row + 1):\n",
    "                    if current_sheet.cell(row=i, column=col_index).value or current_sheet.cell(row=i, column=col_index + 1).value:\n",
    "                        current_sheet.cell(row=i, column=col_index).value = None\n",
    "                        current_sheet.cell(row=i, column=col_index + 1).value = None\n",
    "            else:\n",
    "                max_row = current_sheet[node_cell_ref].row + len(new_names_2)\n",
    "                # Fill names directly if no \"Period\" is next to \"Nodes\"\n",
    "                for i, name in enumerate(new_names_2, start=current_sheet[node_cell_ref].row + 1):\n",
    "                    current_sheet.cell(row=i, column=col_index, value=name)\n",
    "\n",
    "                for i in range(max_row + 1, current_sheet.max_row + 1):\n",
    "                    if current_sheet.cell(row=i, column=col_index).value is not None:\n",
    "                        current_sheet.cell(row=i, column=col_index).value = None\n",
    "\n",
    "workbook.save(file_path)\n",
    "\n"
   ]
  },
  {
   "cell_type": "markdown",
   "metadata": {},
   "source": [
    "Sets.xlsx"
   ]
  },
  {
   "cell_type": "code",
   "execution_count": 14,
   "metadata": {},
   "outputs": [],
   "source": [
    "file_path = 'Data handler/bolivia_v1/Sets.xlsx'\n",
    "workbook = load_workbook(file_path)\n",
    "\n",
    "# Nodes\n",
    "\n",
    "node_sheet = workbook['Nodes']\n",
    "\n",
    "max_row = node_sheet['A1'].row + len(new_names_2)\n",
    "# Fill names directly if no \"Period\" is next to \"Nodes\"\n",
    "for i, name in enumerate(new_names_2, start=node_sheet['A1'].row + 1):\n",
    "    node_sheet.cell(row=i, column=1, value=name)\n",
    "\n",
    "for i in range(max_row + 1, node_sheet.max_row + 1):\n",
    "    if node_sheet.cell(row=i, column=1).value is not None:\n",
    "        node_sheet.cell(row=i, column=1).value = None\n",
    "\n",
    "\n",
    "# OffshoreNodes\n",
    "\n",
    "offshore_node_sheet = workbook['OffshoreNodes']\n",
    "max_row = offshore_node_sheet['A1'].row\n",
    "\n",
    "for i in range(1, max_row):\n",
    "    if offshore_node_sheet.cell(row=i, column=1).value is not None:\n",
    "        offshore_node_sheet.cell(row=i, column=1).value = None\n",
    "\n",
    "\n",
    "# Horizon\n",
    "\n",
    "\n",
    "# Storage\n",
    "\n",
    "\n",
    "# Technology\n",
    "\n",
    "\n",
    "# Generators\n",
    "\n",
    "\n",
    "# LineType\n",
    "\n",
    "\n",
    "# HourOfSeason\n",
    "\n",
    "\n",
    "# StorageOfNodes\n",
    "\n",
    "\n",
    "# DirectionalLines\n",
    "\n",
    "\n",
    "# LineTypeOfDirectionalLines\n",
    "\n",
    "\n",
    "# GeneratorsOfNode\n",
    "\n",
    "\n",
    "# GeneratorsOfTechnology\n",
    "\n",
    "\n",
    "# Coords\n",
    "\n",
    "coord_sheet = workbook['Coords']\n",
    "max_row = 4 + len(new_names_2)\n",
    "i = 4\n",
    "for node, (y, x) in coordinates.items():\n",
    "    coord_sheet.cell(row=i, column=1, value=node)\n",
    "    coord_sheet.cell(row=i, column=2, value=y)\n",
    "    coord_sheet.cell(row=i, column=3, value=x)\n",
    "    i +=1\n",
    "\n",
    "for i in range(max_row, coord_sheet.max_row + 1):\n",
    "    if coord_sheet.cell(row=i, column=1).value is not None:\n",
    "        coord_sheet.cell(row=i, column=1).value = None\n",
    "    if coord_sheet.cell(row=i, column=2).value is not None:\n",
    "        coord_sheet.cell(row=i, column=2).value = None\n",
    "    if coord_sheet.cell(row=i, column=3).value is not None:\n",
    "        coord_sheet.cell(row=i, column=3).value = None\n",
    "\n",
    "\n",
    "workbook.save(file_path)"
   ]
  }
 ],
 "metadata": {
  "kernelspec": {
   "display_name": "empire_env",
   "language": "python",
   "name": "python3"
  },
  "language_info": {
   "codemirror_mode": {
    "name": "ipython",
    "version": 3
   },
   "file_extension": ".py",
   "mimetype": "text/x-python",
   "name": "python",
   "nbconvert_exporter": "python",
   "pygments_lexer": "ipython3",
   "version": "3.11.0"
  }
 },
 "nbformat": 4,
 "nbformat_minor": 2
}
