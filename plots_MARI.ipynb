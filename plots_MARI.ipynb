{
 "cells": [
  {
   "cell_type": "code",
   "execution_count": 1,
   "metadata": {},
   "outputs": [],
   "source": [
    "# Import Required Packages:\n",
    "#-----------------------------------------------------------------------------------------------------------------------\n",
    "\n",
    "import pandas as pd\n",
    "import os\n",
    "import plotly.express as px\n",
    "import plotly.graph_objects as go\n",
    "from plotly.subplots import make_subplots\n"
   ]
  },
  {
   "cell_type": "code",
   "execution_count": 2,
   "metadata": {},
   "outputs": [],
   "source": [
    "# Define paths\n",
    "\n",
    "# Define paths to read the results \n",
    "path = 'C:/Users/marih/EMPIRE-BO/Results/current_result_study/'\n"
   ]
  },
  {
   "cell_type": "code",
   "execution_count": 3,
   "metadata": {},
   "outputs": [],
   "source": [
    "\n",
    "# The seasonal scale factors from the input data\n",
    "seasScale_dict = {\"winter\":\t12.96428571, \"spring\":12.96428571, \"summer\": 12.96428571, \"fall\": 12.96428571, \"peak1\":  1,\n",
    "                      \"peak2\": 1}\n",
    "n_scenarios = 1\n",
    "prob_scenarios = {f\"scenario{i}\": 1/n_scenarios for i in range(1,n_scenarios+1)}\n",
    "\n",
    "n_periods = 8\n",
    "\n",
    "DLCMODULE = True\n"
   ]
  },
  {
   "cell_type": "code",
   "execution_count": 17,
   "metadata": {},
   "outputs": [
    {
     "name": "stderr",
     "output_type": "stream",
     "text": [
      "C:\\Users\\marih\\AppData\\Local\\Temp\\ipykernel_11764\\499384811.py:23: FutureWarning:\n",
      "\n",
      "Setting an item of incompatible dtype is deprecated and will raise an error in a future version of pandas. Value '[1.40037825e-13 2.46138420e-13 2.32523947e-13 ... 1.09826716e-12\n",
      " 2.28956140e-12 4.50517406e-12]' has dtype incompatible with int64, please explicitly cast to a compatible dtype first.\n",
      "\n",
      "C:\\Users\\marih\\AppData\\Local\\Temp\\ipykernel_11764\\499384811.py:27: FutureWarning:\n",
      "\n",
      "Setting an item of incompatible dtype is deprecated and will raise an error in a future version of pandas. Value '[-9.02236109e-13 -1.49870982e-13 -2.20708773e-13 ... -1.49003306e-12\n",
      " -1.37089016e-12 -1.32525666e-12]' has dtype incompatible with int64, please explicitly cast to a compatible dtype first.\n",
      "\n"
     ]
    },
    {
     "name": "stdout",
     "output_type": "stream",
     "text": [
      "Index(['Node', 'Period', 'Hour', 'AllGen_MW', 'Load_MW', 'Net_load_MW',\n",
      "       'Hydroregulated_MW', 'Hydrorun-of-the-river_MW', 'GasOCGT_MW', 'Bio_MW',\n",
      "       'GasCCGT_MW', 'Oilexisting_MW', 'Windonshore_MW', 'Solar_MW', 'Geo_MW',\n",
      "       'storCharge_MW', 'storDischarge_MW', 'storEnergyLevel_MWh',\n",
      "       'LossesChargeDischargeBleed_MW', 'FlowOut_MW', 'FlowIn_MW',\n",
      "       'LossesFlowIn_MW', 'LoadShed_MW', 'Price_EURHourlyAverageUndiscounted',\n",
      "       'storChargeHydroLiIon_MW', 'storDischargeHydroLiIon_MW', 'Net_MW',\n",
      "       'Total_kgCO2_MWh', 'LoadTimesPriceUndiscounted', 'seasonalscale'],\n",
      "      dtype='object')\n",
      "Index(['Node', 'Period', 'Hour', 'AllGen_MW', 'Load_MW', 'Net_load_MW',\n",
      "       'Hydroregulated_MW', 'Hydrorun-of-the-river_MW', 'GasOCGT_MW', 'Bio_MW',\n",
      "       'GasCCGT_MW', 'Oilexisting_MW', 'Windonshore_MW', 'Solar_MW', 'Geo_MW',\n",
      "       'storCharge_MW', 'storDischarge_MW', 'storEnergyLevel_MWh',\n",
      "       'LossesChargeDischargeBleed_MW', 'FlowOut_MW', 'FlowIn_MW',\n",
      "       'LossesFlowIn_MW', 'LoadShed_MW', 'Price_EURHourlyAverageUndiscounted',\n",
      "       'storChargeHydroLiIon_MW', 'storDischargeHydroLiIon_MW', 'Net_MW',\n",
      "       'Total_kgCO2_MWh', 'LoadTimesPriceUndiscounted', 'seasonalscale'],\n",
      "      dtype='object')\n"
     ]
    },
    {
     "ename": "KeyError",
     "evalue": "'seasonalscale'",
     "output_type": "error",
     "traceback": [
      "\u001b[1;31m---------------------------------------------------------------------------\u001b[0m",
      "\u001b[1;31mKeyError\u001b[0m                                  Traceback (most recent call last)",
      "File \u001b[1;32mc:\\Users\\marih\\anaconda3\\envs\\empire_env\\Lib\\site-packages\\pandas\\core\\indexes\\base.py:3805\u001b[0m, in \u001b[0;36mIndex.get_loc\u001b[1;34m(self, key)\u001b[0m\n\u001b[0;32m   3804\u001b[0m \u001b[38;5;28;01mtry\u001b[39;00m:\n\u001b[1;32m-> 3805\u001b[0m     \u001b[38;5;28;01mreturn\u001b[39;00m \u001b[38;5;28;43mself\u001b[39;49m\u001b[38;5;241;43m.\u001b[39;49m\u001b[43m_engine\u001b[49m\u001b[38;5;241;43m.\u001b[39;49m\u001b[43mget_loc\u001b[49m\u001b[43m(\u001b[49m\u001b[43mcasted_key\u001b[49m\u001b[43m)\u001b[49m\n\u001b[0;32m   3806\u001b[0m \u001b[38;5;28;01mexcept\u001b[39;00m \u001b[38;5;167;01mKeyError\u001b[39;00m \u001b[38;5;28;01mas\u001b[39;00m err:\n",
      "File \u001b[1;32mindex.pyx:167\u001b[0m, in \u001b[0;36mpandas._libs.index.IndexEngine.get_loc\u001b[1;34m()\u001b[0m\n",
      "File \u001b[1;32mindex.pyx:196\u001b[0m, in \u001b[0;36mpandas._libs.index.IndexEngine.get_loc\u001b[1;34m()\u001b[0m\n",
      "File \u001b[1;32mpandas\\\\_libs\\\\hashtable_class_helper.pxi:7081\u001b[0m, in \u001b[0;36mpandas._libs.hashtable.PyObjectHashTable.get_item\u001b[1;34m()\u001b[0m\n",
      "File \u001b[1;32mpandas\\\\_libs\\\\hashtable_class_helper.pxi:7089\u001b[0m, in \u001b[0;36mpandas._libs.hashtable.PyObjectHashTable.get_item\u001b[1;34m()\u001b[0m\n",
      "\u001b[1;31mKeyError\u001b[0m: 'seasonalscale'",
      "\nThe above exception was the direct cause of the following exception:\n",
      "\u001b[1;31mKeyError\u001b[0m                                  Traceback (most recent call last)",
      "Cell \u001b[1;32mIn[17], line 68\u001b[0m\n\u001b[0;32m     64\u001b[0m \u001b[38;5;28mprint\u001b[39m(result_dic[\u001b[38;5;124mf\u001b[39m\u001b[38;5;124m'\u001b[39m\u001b[38;5;124mdf_oper_mean_scen_scaled\u001b[39m\u001b[38;5;124m'\u001b[39m]\u001b[38;5;241m.\u001b[39mcolumns)\n\u001b[0;32m     66\u001b[0m \u001b[38;5;28;01mfor\u001b[39;00m col \u001b[38;5;129;01min\u001b[39;00m [e \u001b[38;5;28;01mfor\u001b[39;00m e \u001b[38;5;129;01min\u001b[39;00m \u001b[38;5;28mlist\u001b[39m(result_dic[\u001b[38;5;124mf\u001b[39m\u001b[38;5;124m'\u001b[39m\u001b[38;5;124mdf_oper\u001b[39m\u001b[38;5;124m'\u001b[39m]\u001b[38;5;241m.\u001b[39mcolumns) \u001b[38;5;28;01mif\u001b[39;00m e \u001b[38;5;129;01mnot\u001b[39;00m \u001b[38;5;129;01min\u001b[39;00m (\u001b[38;5;124m\"\u001b[39m\u001b[38;5;124mNode\u001b[39m\u001b[38;5;124m\"\u001b[39m, \u001b[38;5;124m\"\u001b[39m\u001b[38;5;124mPeriod\u001b[39m\u001b[38;5;124m\"\u001b[39m, \u001b[38;5;124m\"\u001b[39m\u001b[38;5;124mSeason\u001b[39m\u001b[38;5;124m\"\u001b[39m, \u001b[38;5;124m\"\u001b[39m\u001b[38;5;124mHour\u001b[39m\u001b[38;5;124m\"\u001b[39m, \u001b[38;5;124m\"\u001b[39m\u001b[38;5;124mScenario\u001b[39m\u001b[38;5;124m\"\u001b[39m, \u001b[38;5;124m\"\u001b[39m\u001b[38;5;124mPrice_EURHourlyAverageUndiscounted\u001b[39m\u001b[38;5;124m\"\u001b[39m, \u001b[38;5;124m\"\u001b[39m\u001b[38;5;124mPrice_EURHourlyAverageDiscounted\u001b[39m\u001b[38;5;124m\"\u001b[39m)]:\n\u001b[0;32m     67\u001b[0m         result_dic[\u001b[38;5;124mf\u001b[39m\u001b[38;5;124m'\u001b[39m\u001b[38;5;124mdf_oper_mean_scen_scaled\u001b[39m\u001b[38;5;124m'\u001b[39m][col] \u001b[38;5;241m=\u001b[39m result_dic[\u001b[38;5;124mf\u001b[39m\u001b[38;5;124m'\u001b[39m\u001b[38;5;124mdf_oper_mean_scen_scaled\u001b[39m\u001b[38;5;124m'\u001b[39m][col] \u001b[38;5;241m*\u001b[39m \\\n\u001b[1;32m---> 68\u001b[0m         \u001b[43mresult_dic\u001b[49m\u001b[43m[\u001b[49m\u001b[38;5;124;43mf\u001b[39;49m\u001b[38;5;124;43m'\u001b[39;49m\u001b[38;5;124;43mdf_oper_mean_scen_scaled\u001b[39;49m\u001b[38;5;124;43m'\u001b[39;49m\u001b[43m]\u001b[49m\u001b[43m[\u001b[49m\u001b[38;5;124;43m\"\u001b[39;49m\u001b[38;5;124;43mseasonalscale\u001b[39;49m\u001b[38;5;124;43m\"\u001b[39;49m\u001b[43m]\u001b[49m\n\u001b[0;32m     69\u001b[0m         result_dic[\u001b[38;5;124mf\u001b[39m\u001b[38;5;124m'\u001b[39m\u001b[38;5;124mdf_oper_mean_scen_scaled\u001b[39m\u001b[38;5;124m'\u001b[39m]\u001b[38;5;241m.\u001b[39mdrop(\u001b[38;5;124m\"\u001b[39m\u001b[38;5;124mseasonalscale\u001b[39m\u001b[38;5;124m\"\u001b[39m, axis\u001b[38;5;241m=\u001b[39m\u001b[38;5;241m1\u001b[39m, inplace\u001b[38;5;241m=\u001b[39m\u001b[38;5;28;01mTrue\u001b[39;00m)\n\u001b[0;32m     71\u001b[0m \u001b[38;5;66;03m# Verify the renaming:\u001b[39;00m\n",
      "File \u001b[1;32mc:\\Users\\marih\\anaconda3\\envs\\empire_env\\Lib\\site-packages\\pandas\\core\\frame.py:4090\u001b[0m, in \u001b[0;36mDataFrame.__getitem__\u001b[1;34m(self, key)\u001b[0m\n\u001b[0;32m   4088\u001b[0m \u001b[38;5;28;01mif\u001b[39;00m \u001b[38;5;28mself\u001b[39m\u001b[38;5;241m.\u001b[39mcolumns\u001b[38;5;241m.\u001b[39mnlevels \u001b[38;5;241m>\u001b[39m \u001b[38;5;241m1\u001b[39m:\n\u001b[0;32m   4089\u001b[0m     \u001b[38;5;28;01mreturn\u001b[39;00m \u001b[38;5;28mself\u001b[39m\u001b[38;5;241m.\u001b[39m_getitem_multilevel(key)\n\u001b[1;32m-> 4090\u001b[0m indexer \u001b[38;5;241m=\u001b[39m \u001b[38;5;28;43mself\u001b[39;49m\u001b[38;5;241;43m.\u001b[39;49m\u001b[43mcolumns\u001b[49m\u001b[38;5;241;43m.\u001b[39;49m\u001b[43mget_loc\u001b[49m\u001b[43m(\u001b[49m\u001b[43mkey\u001b[49m\u001b[43m)\u001b[49m\n\u001b[0;32m   4091\u001b[0m \u001b[38;5;28;01mif\u001b[39;00m is_integer(indexer):\n\u001b[0;32m   4092\u001b[0m     indexer \u001b[38;5;241m=\u001b[39m [indexer]\n",
      "File \u001b[1;32mc:\\Users\\marih\\anaconda3\\envs\\empire_env\\Lib\\site-packages\\pandas\\core\\indexes\\base.py:3812\u001b[0m, in \u001b[0;36mIndex.get_loc\u001b[1;34m(self, key)\u001b[0m\n\u001b[0;32m   3807\u001b[0m     \u001b[38;5;28;01mif\u001b[39;00m \u001b[38;5;28misinstance\u001b[39m(casted_key, \u001b[38;5;28mslice\u001b[39m) \u001b[38;5;129;01mor\u001b[39;00m (\n\u001b[0;32m   3808\u001b[0m         \u001b[38;5;28misinstance\u001b[39m(casted_key, abc\u001b[38;5;241m.\u001b[39mIterable)\n\u001b[0;32m   3809\u001b[0m         \u001b[38;5;129;01mand\u001b[39;00m \u001b[38;5;28many\u001b[39m(\u001b[38;5;28misinstance\u001b[39m(x, \u001b[38;5;28mslice\u001b[39m) \u001b[38;5;28;01mfor\u001b[39;00m x \u001b[38;5;129;01min\u001b[39;00m casted_key)\n\u001b[0;32m   3810\u001b[0m     ):\n\u001b[0;32m   3811\u001b[0m         \u001b[38;5;28;01mraise\u001b[39;00m InvalidIndexError(key)\n\u001b[1;32m-> 3812\u001b[0m     \u001b[38;5;28;01mraise\u001b[39;00m \u001b[38;5;167;01mKeyError\u001b[39;00m(key) \u001b[38;5;28;01mfrom\u001b[39;00m \u001b[38;5;21;01merr\u001b[39;00m\n\u001b[0;32m   3813\u001b[0m \u001b[38;5;28;01mexcept\u001b[39;00m \u001b[38;5;167;01mTypeError\u001b[39;00m:\n\u001b[0;32m   3814\u001b[0m     \u001b[38;5;66;03m# If we have a listlike key, _check_indexing_error will raise\u001b[39;00m\n\u001b[0;32m   3815\u001b[0m     \u001b[38;5;66;03m#  InvalidIndexError. Otherwise we fall through and re-raise\u001b[39;00m\n\u001b[0;32m   3816\u001b[0m     \u001b[38;5;66;03m#  the TypeError.\u001b[39;00m\n\u001b[0;32m   3817\u001b[0m     \u001b[38;5;28mself\u001b[39m\u001b[38;5;241m.\u001b[39m_check_indexing_error(key)\n",
      "\u001b[1;31mKeyError\u001b[0m: 'seasonalscale'"
     ]
    }
   ],
   "source": [
    "# Load all required Data\n",
    "#-----------------------------------------------------------------------------------------------------------------------\n",
    "\n",
    "# loading general csvs\n",
    "result_dic = {}\n",
    "cols_dict = {}\n",
    "\n",
    "# Read the Operational data\n",
    "result_dic[f'df_oper'] =  pd.read_csv('C:/Users/marih/EMPIRE-BO/Results/currrent_result_study/results_output_Operational.csv')\n",
    "\n",
    "# Add storageChargeHydroLi-Ion and storageDischargeHydroLi-Ion\n",
    "result_dic[f'df_oper'][\"storChargeHydroLiIon_MW\"] = result_dic[f'df_oper'][\"storCharge_MW\"] \n",
    "result_dic[f'df_oper'][\"storDischargeHydroLiIon_MW\"] = result_dic[f'df_oper'][\"storDischarge_MW\"] \n",
    "\n",
    "# Calculate the net DR-charge and DR-discharge\n",
    "result_dic[f'df_oper'][\"Net_MW\"] = result_dic[f'df_oper'][\"storDischarge_MW\"] + result_dic[f'df_oper'][\"storCharge_MW\"]\n",
    "# Find the index of charging hours\n",
    "ch_rows = result_dic[f'df_oper'][result_dic[f'df_oper']['Net_MW'] < 0].index\n",
    "# Find the index of discharging hours\n",
    "dch_rows = result_dic[f'df_oper'][result_dic[f'df_oper']['Net_MW'] > 0].index\n",
    "# Update DRDischarge\n",
    "result_dic[f'df_oper']['storDischarge_MW'] = 0\n",
    "result_dic[f'df_oper'].loc[dch_rows, 'storDischarge_MW'] = result_dic[f'df_oper'].loc[\n",
    "            dch_rows, 'Net_MW']\n",
    "# Update DRCharge\n",
    "result_dic[f'df_oper'][\"storCharge_MW\"] = 0\n",
    "result_dic[f'df_oper'].loc[ch_rows, 'storCharge_MW'] = result_dic[f'df_oper'].loc[\n",
    "            ch_rows, 'Net_MW']\n",
    "\n",
    "\n",
    "# Adding two columns for calculation of total kg CO2 and average price per MW:\n",
    "# CO2 production (This should be double-checked)\n",
    "result_dic[f'df_oper'][\"Total_kgCO2_MWh\"] = result_dic[f'df_oper'][\"AvgCO2_kgCO2perMWh\"] * result_dic[f'df_oper'][\"AllGen_MW\"]\n",
    "result_dic[f'df_oper'].drop(\"AvgCO2_kgCO2perMWh\", axis=1, inplace=True)\n",
    "# Prices are multiplied by loads to calculate price per MW in the nex lines:\n",
    "result_dic[f'df_oper'].rename(columns={\"Price_EURperMWh\":\"Price_EURHourlyAverageUndiscounted\"}, inplace=True)\n",
    "#result_dic[f'df_oper'].rename(columns={\"Price_EURperMWh(discounted)\":\"Price_EURHourlyAverageDiscounted\"}, inplace=True)\n",
    "result_dic[f'df_oper'][\"LoadTimesPriceUndiscounted\"] = result_dic[f'df_oper'][\"Price_EURHourlyAverageUndiscounted\"] * result_dic[f'df_oper'][\"Load_MW\"]\n",
    "# result_dic[f'df_oper'][\"LoadTimesPriceDiscounted\"] = result_dic[f'df_oper'][\"Price_EURHourlyAverageDiscounted\"] * /\n",
    "#     result_dic[f'df_oper'][\"Load_MW\"]\n",
    "\n",
    "dict_math_operation = {}\n",
    "for col in [e for e in list(result_dic[f'df_oper'].columns) if e not in\n",
    "                                    (\"Node\", \"Period\", \"Season\", \"Hour\", \"Scenario\")]:\n",
    "    if col == \"Price_EURHourlyAverageUndiscounted\" or col == \"Price_EURHourlyAverageDiscounted\":\n",
    "            dict_math_operation[col]=\"mean\"\n",
    "    else:\n",
    "            dict_math_operation[col] = \"sum\"\n",
    "            \n",
    "# Calculating average over scenarios:\n",
    "result_dic[f'df_oper_mean_scen'] =  result_dic[f'df_oper'].drop(\"Scenario\",axis=1).groupby(['Node', 'Period', 'Season', 'Hour'], as_index=False).mean()\n",
    "\n",
    "# Applying seasonal factor\n",
    "result_dic[f'df_oper_mean_scen'][\"seasonalscale\"] = \\\n",
    "result_dic[f'df_oper_mean_scen'].Season.map(seasScale_dict)\n",
    "result_dic[f'df_oper_mean_scen'].drop(\"Season\", axis=1, inplace=True)\n",
    "\n",
    "# Verify the renaming:\n",
    "print(result_dic[f'df_oper_mean_scen'].columns)\n",
    "\n",
    "result_dic[f'df_oper_mean_scen_scaled'] = result_dic[f'df_oper_mean_scen'].copy()\n",
    "\n",
    "# Verify the renaming:\n",
    "print(result_dic[f'df_oper_mean_scen_scaled'].columns)\n",
    "\n",
    "for col in [e for e in list(result_dic[f'df_oper'].columns) if e not in (\"Node\", \"Period\", \"Season\", \"Hour\", \"Scenario\", \"Price_EURHourlyAverageUndiscounted\", \"Price_EURHourlyAverageDiscounted\")]:\n",
    "        result_dic[f'df_oper_mean_scen_scaled'][col] = result_dic[f'df_oper_mean_scen_scaled'][col] * \\\n",
    "        result_dic[f'df_oper_mean_scen_scaled'][\"seasonalscale\"]\n",
    "        result_dic[f'df_oper_mean_scen_scaled'].drop(\"seasonalscale\", axis=1, inplace=True)\n",
    "\n",
    "# Verify the renaming:\n",
    "print(result_dic[f'df_oper'].columns)\n",
    "\n",
    "# aggregated over operational hours\n",
    "result_dic[f'df_oper_mean_scen_scaled_per_node_period'] = \\\n",
    "        result_dic[f'df_oper_mean_scen_scaled'].drop(\"Hour\", axis=1).\\\n",
    "            groupby([\"Node\", \"Period\"], as_index=False).agg(dict_math_operation)\n",
    "result_dic[f'df_oper_mean_scen_scaled_per_node_period'][\"Price_EURperMWhUndiscounted\"] = \\\n",
    "        result_dic[f'df_oper_mean_scen_scaled_per_node_period'][\"LoadTimesPriceUndiscounted\"] / \\\n",
    "        result_dic[f'df_oper_mean_scen_scaled_per_node_period'][\"Load_MW\"]\n",
    "result_dic[f'df_oper_mean_scen_scaled_per_node_period'][\"Price_EURperMWhDiscounted\"] = \\\n",
    "        result_dic[f'df_oper_mean_scen_scaled_per_node_period'][\"LoadTimesPriceDiscounted\"] / \\\n",
    "        result_dic[f'df_oper_mean_scen_scaled_per_node_period'][\"Load_MW\"]\n",
    "\n",
    "    # aggregate over Nodes\n",
    "result_dic[f'df_oper_mean_scen_scaled_per_period'] = \\\n",
    "        result_dic[f'df_oper_mean_scen_scaled_per_node_period'].drop(\"Node\", axis=1).\\\n",
    "            groupby([\"Period\"], as_index=False).agg(dict_math_operation)\n",
    "result_dic[f'df_oper_mean_scen_scaled_per_period'][\"Price_EURperMWhUndiscounted\"] = \\\n",
    "        -result_dic[f'df_oper_mean_scen_scaled_per_period'][\"LoadTimesPriceUndiscounted\"] / \\\n",
    "        result_dic[f'df_oper_mean_scen_scaled_per_period'][\"AllGen_MW\"]\n",
    "result_dic[f'df_oper_mean_scen_scaled_per_period'][\"Price_EURperMWhDiscounted\"] = \\\n",
    "        -result_dic[f'df_oper_mean_scen_scaled_per_period'][\"LoadTimesPriceDiscounted\"] / \\\n",
    "        result_dic[f'df_oper_mean_scen_scaled_per_period'][\"AllGen_MW\"]\n",
    "            \n",
    "result_dic[f'df_bat_discharge'] = pd.read_csv(('C:/Users/marih/EMPIRE-BO/Results/currrent_result_study/results_output_EuropePlot.csv'), skiprows=29)\n",
    "result_dic[f'df_bat_discharge'].rename(columns={\"Unnamed: 0\": \"Period\"}, inplace=True)\n",
    "\n",
    "result_dic[f'df_bat_discharge']\n",
    "\n",
    " # What else do you need to read\n",
    "result_dic[f'df_trans'] = pd.read_csv('C:/Users/marih/EMPIRE-BO/Results/currrent_result_study/results_output_transmision.csv')\n",
    "result_dic[f'df_storage_installedPWCap'] = pd.read_csv(('C:/Users/marih/EMPIRE-BO/Results/currrent_result_study/results_output_EuropePlot.csv'), skiprows = 2*(3+n_periods)+2, nrows=n_periods)\n",
    "#result_dic[f'df_storage_installedENCap'] = pd.read_csv(('C:/Users/marih/EMPIRE-BO/Results/currrent_result_study/results_output_EuropePlot.csv'), skiprows = 3*(3+n_periods)+2, nrows=n_periods)\n",
    "# result_dic[f'df_sto'] = pd.read_csv(os.path.join(*[path, 'results_output_stor.csv']))\n",
    "# result_dic[f'df_obj'] = pd.read_csv(os.path.join(*[path, 'results_objective.csv']))\n",
    "\n",
    "# Verify the renaming:\n",
    "print(result_dic[f'df_oper'].columns)\n",
    "\n",
    "periods = result_dic[f'df_oper'][\"Period\"].unique()\n",
    "\n",
    "print(periods)\n",
    "\n",
    "print(f'Loaded data')"
   ]
  },
  {
   "cell_type": "code",
   "execution_count": 10,
   "metadata": {},
   "outputs": [
    {
     "data": {
      "application/vnd.plotly.v1+json": {
       "config": {
        "plotlyServerURL": "https://plot.ly"
       },
       "data": [],
       "layout": {
        "legend": {
         "tracegroupgap": 0
        },
        "template": {
         "data": {
          "bar": [
           {
            "error_x": {
             "color": "#2a3f5f"
            },
            "error_y": {
             "color": "#2a3f5f"
            },
            "marker": {
             "line": {
              "color": "#E5ECF6",
              "width": 0.5
             },
             "pattern": {
              "fillmode": "overlay",
              "size": 10,
              "solidity": 0.2
             }
            },
            "type": "bar"
           }
          ],
          "barpolar": [
           {
            "marker": {
             "line": {
              "color": "#E5ECF6",
              "width": 0.5
             },
             "pattern": {
              "fillmode": "overlay",
              "size": 10,
              "solidity": 0.2
             }
            },
            "type": "barpolar"
           }
          ],
          "carpet": [
           {
            "aaxis": {
             "endlinecolor": "#2a3f5f",
             "gridcolor": "white",
             "linecolor": "white",
             "minorgridcolor": "white",
             "startlinecolor": "#2a3f5f"
            },
            "baxis": {
             "endlinecolor": "#2a3f5f",
             "gridcolor": "white",
             "linecolor": "white",
             "minorgridcolor": "white",
             "startlinecolor": "#2a3f5f"
            },
            "type": "carpet"
           }
          ],
          "choropleth": [
           {
            "colorbar": {
             "outlinewidth": 0,
             "ticks": ""
            },
            "type": "choropleth"
           }
          ],
          "contour": [
           {
            "colorbar": {
             "outlinewidth": 0,
             "ticks": ""
            },
            "colorscale": [
             [
              0,
              "#0d0887"
             ],
             [
              0.1111111111111111,
              "#46039f"
             ],
             [
              0.2222222222222222,
              "#7201a8"
             ],
             [
              0.3333333333333333,
              "#9c179e"
             ],
             [
              0.4444444444444444,
              "#bd3786"
             ],
             [
              0.5555555555555556,
              "#d8576b"
             ],
             [
              0.6666666666666666,
              "#ed7953"
             ],
             [
              0.7777777777777778,
              "#fb9f3a"
             ],
             [
              0.8888888888888888,
              "#fdca26"
             ],
             [
              1,
              "#f0f921"
             ]
            ],
            "type": "contour"
           }
          ],
          "contourcarpet": [
           {
            "colorbar": {
             "outlinewidth": 0,
             "ticks": ""
            },
            "type": "contourcarpet"
           }
          ],
          "heatmap": [
           {
            "colorbar": {
             "outlinewidth": 0,
             "ticks": ""
            },
            "colorscale": [
             [
              0,
              "#0d0887"
             ],
             [
              0.1111111111111111,
              "#46039f"
             ],
             [
              0.2222222222222222,
              "#7201a8"
             ],
             [
              0.3333333333333333,
              "#9c179e"
             ],
             [
              0.4444444444444444,
              "#bd3786"
             ],
             [
              0.5555555555555556,
              "#d8576b"
             ],
             [
              0.6666666666666666,
              "#ed7953"
             ],
             [
              0.7777777777777778,
              "#fb9f3a"
             ],
             [
              0.8888888888888888,
              "#fdca26"
             ],
             [
              1,
              "#f0f921"
             ]
            ],
            "type": "heatmap"
           }
          ],
          "heatmapgl": [
           {
            "colorbar": {
             "outlinewidth": 0,
             "ticks": ""
            },
            "colorscale": [
             [
              0,
              "#0d0887"
             ],
             [
              0.1111111111111111,
              "#46039f"
             ],
             [
              0.2222222222222222,
              "#7201a8"
             ],
             [
              0.3333333333333333,
              "#9c179e"
             ],
             [
              0.4444444444444444,
              "#bd3786"
             ],
             [
              0.5555555555555556,
              "#d8576b"
             ],
             [
              0.6666666666666666,
              "#ed7953"
             ],
             [
              0.7777777777777778,
              "#fb9f3a"
             ],
             [
              0.8888888888888888,
              "#fdca26"
             ],
             [
              1,
              "#f0f921"
             ]
            ],
            "type": "heatmapgl"
           }
          ],
          "histogram": [
           {
            "marker": {
             "pattern": {
              "fillmode": "overlay",
              "size": 10,
              "solidity": 0.2
             }
            },
            "type": "histogram"
           }
          ],
          "histogram2d": [
           {
            "colorbar": {
             "outlinewidth": 0,
             "ticks": ""
            },
            "colorscale": [
             [
              0,
              "#0d0887"
             ],
             [
              0.1111111111111111,
              "#46039f"
             ],
             [
              0.2222222222222222,
              "#7201a8"
             ],
             [
              0.3333333333333333,
              "#9c179e"
             ],
             [
              0.4444444444444444,
              "#bd3786"
             ],
             [
              0.5555555555555556,
              "#d8576b"
             ],
             [
              0.6666666666666666,
              "#ed7953"
             ],
             [
              0.7777777777777778,
              "#fb9f3a"
             ],
             [
              0.8888888888888888,
              "#fdca26"
             ],
             [
              1,
              "#f0f921"
             ]
            ],
            "type": "histogram2d"
           }
          ],
          "histogram2dcontour": [
           {
            "colorbar": {
             "outlinewidth": 0,
             "ticks": ""
            },
            "colorscale": [
             [
              0,
              "#0d0887"
             ],
             [
              0.1111111111111111,
              "#46039f"
             ],
             [
              0.2222222222222222,
              "#7201a8"
             ],
             [
              0.3333333333333333,
              "#9c179e"
             ],
             [
              0.4444444444444444,
              "#bd3786"
             ],
             [
              0.5555555555555556,
              "#d8576b"
             ],
             [
              0.6666666666666666,
              "#ed7953"
             ],
             [
              0.7777777777777778,
              "#fb9f3a"
             ],
             [
              0.8888888888888888,
              "#fdca26"
             ],
             [
              1,
              "#f0f921"
             ]
            ],
            "type": "histogram2dcontour"
           }
          ],
          "mesh3d": [
           {
            "colorbar": {
             "outlinewidth": 0,
             "ticks": ""
            },
            "type": "mesh3d"
           }
          ],
          "parcoords": [
           {
            "line": {
             "colorbar": {
              "outlinewidth": 0,
              "ticks": ""
             }
            },
            "type": "parcoords"
           }
          ],
          "pie": [
           {
            "automargin": true,
            "type": "pie"
           }
          ],
          "scatter": [
           {
            "fillpattern": {
             "fillmode": "overlay",
             "size": 10,
             "solidity": 0.2
            },
            "type": "scatter"
           }
          ],
          "scatter3d": [
           {
            "line": {
             "colorbar": {
              "outlinewidth": 0,
              "ticks": ""
             }
            },
            "marker": {
             "colorbar": {
              "outlinewidth": 0,
              "ticks": ""
             }
            },
            "type": "scatter3d"
           }
          ],
          "scattercarpet": [
           {
            "marker": {
             "colorbar": {
              "outlinewidth": 0,
              "ticks": ""
             }
            },
            "type": "scattercarpet"
           }
          ],
          "scattergeo": [
           {
            "marker": {
             "colorbar": {
              "outlinewidth": 0,
              "ticks": ""
             }
            },
            "type": "scattergeo"
           }
          ],
          "scattergl": [
           {
            "marker": {
             "colorbar": {
              "outlinewidth": 0,
              "ticks": ""
             }
            },
            "type": "scattergl"
           }
          ],
          "scattermapbox": [
           {
            "marker": {
             "colorbar": {
              "outlinewidth": 0,
              "ticks": ""
             }
            },
            "type": "scattermapbox"
           }
          ],
          "scatterpolar": [
           {
            "marker": {
             "colorbar": {
              "outlinewidth": 0,
              "ticks": ""
             }
            },
            "type": "scatterpolar"
           }
          ],
          "scatterpolargl": [
           {
            "marker": {
             "colorbar": {
              "outlinewidth": 0,
              "ticks": ""
             }
            },
            "type": "scatterpolargl"
           }
          ],
          "scatterternary": [
           {
            "marker": {
             "colorbar": {
              "outlinewidth": 0,
              "ticks": ""
             }
            },
            "type": "scatterternary"
           }
          ],
          "surface": [
           {
            "colorbar": {
             "outlinewidth": 0,
             "ticks": ""
            },
            "colorscale": [
             [
              0,
              "#0d0887"
             ],
             [
              0.1111111111111111,
              "#46039f"
             ],
             [
              0.2222222222222222,
              "#7201a8"
             ],
             [
              0.3333333333333333,
              "#9c179e"
             ],
             [
              0.4444444444444444,
              "#bd3786"
             ],
             [
              0.5555555555555556,
              "#d8576b"
             ],
             [
              0.6666666666666666,
              "#ed7953"
             ],
             [
              0.7777777777777778,
              "#fb9f3a"
             ],
             [
              0.8888888888888888,
              "#fdca26"
             ],
             [
              1,
              "#f0f921"
             ]
            ],
            "type": "surface"
           }
          ],
          "table": [
           {
            "cells": {
             "fill": {
              "color": "#EBF0F8"
             },
             "line": {
              "color": "white"
             }
            },
            "header": {
             "fill": {
              "color": "#C8D4E3"
             },
             "line": {
              "color": "white"
             }
            },
            "type": "table"
           }
          ]
         },
         "layout": {
          "annotationdefaults": {
           "arrowcolor": "#2a3f5f",
           "arrowhead": 0,
           "arrowwidth": 1
          },
          "autotypenumbers": "strict",
          "coloraxis": {
           "colorbar": {
            "outlinewidth": 0,
            "ticks": ""
           }
          },
          "colorscale": {
           "diverging": [
            [
             0,
             "#8e0152"
            ],
            [
             0.1,
             "#c51b7d"
            ],
            [
             0.2,
             "#de77ae"
            ],
            [
             0.3,
             "#f1b6da"
            ],
            [
             0.4,
             "#fde0ef"
            ],
            [
             0.5,
             "#f7f7f7"
            ],
            [
             0.6,
             "#e6f5d0"
            ],
            [
             0.7,
             "#b8e186"
            ],
            [
             0.8,
             "#7fbc41"
            ],
            [
             0.9,
             "#4d9221"
            ],
            [
             1,
             "#276419"
            ]
           ],
           "sequential": [
            [
             0,
             "#0d0887"
            ],
            [
             0.1111111111111111,
             "#46039f"
            ],
            [
             0.2222222222222222,
             "#7201a8"
            ],
            [
             0.3333333333333333,
             "#9c179e"
            ],
            [
             0.4444444444444444,
             "#bd3786"
            ],
            [
             0.5555555555555556,
             "#d8576b"
            ],
            [
             0.6666666666666666,
             "#ed7953"
            ],
            [
             0.7777777777777778,
             "#fb9f3a"
            ],
            [
             0.8888888888888888,
             "#fdca26"
            ],
            [
             1,
             "#f0f921"
            ]
           ],
           "sequentialminus": [
            [
             0,
             "#0d0887"
            ],
            [
             0.1111111111111111,
             "#46039f"
            ],
            [
             0.2222222222222222,
             "#7201a8"
            ],
            [
             0.3333333333333333,
             "#9c179e"
            ],
            [
             0.4444444444444444,
             "#bd3786"
            ],
            [
             0.5555555555555556,
             "#d8576b"
            ],
            [
             0.6666666666666666,
             "#ed7953"
            ],
            [
             0.7777777777777778,
             "#fb9f3a"
            ],
            [
             0.8888888888888888,
             "#fdca26"
            ],
            [
             1,
             "#f0f921"
            ]
           ]
          },
          "colorway": [
           "#636efa",
           "#EF553B",
           "#00cc96",
           "#ab63fa",
           "#FFA15A",
           "#19d3f3",
           "#FF6692",
           "#B6E880",
           "#FF97FF",
           "#FECB52"
          ],
          "font": {
           "color": "#2a3f5f"
          },
          "geo": {
           "bgcolor": "white",
           "lakecolor": "white",
           "landcolor": "#E5ECF6",
           "showlakes": true,
           "showland": true,
           "subunitcolor": "white"
          },
          "hoverlabel": {
           "align": "left"
          },
          "hovermode": "closest",
          "mapbox": {
           "style": "light"
          },
          "paper_bgcolor": "white",
          "plot_bgcolor": "#E5ECF6",
          "polar": {
           "angularaxis": {
            "gridcolor": "white",
            "linecolor": "white",
            "ticks": ""
           },
           "bgcolor": "#E5ECF6",
           "radialaxis": {
            "gridcolor": "white",
            "linecolor": "white",
            "ticks": ""
           }
          },
          "scene": {
           "xaxis": {
            "backgroundcolor": "#E5ECF6",
            "gridcolor": "white",
            "gridwidth": 2,
            "linecolor": "white",
            "showbackground": true,
            "ticks": "",
            "zerolinecolor": "white"
           },
           "yaxis": {
            "backgroundcolor": "#E5ECF6",
            "gridcolor": "white",
            "gridwidth": 2,
            "linecolor": "white",
            "showbackground": true,
            "ticks": "",
            "zerolinecolor": "white"
           },
           "zaxis": {
            "backgroundcolor": "#E5ECF6",
            "gridcolor": "white",
            "gridwidth": 2,
            "linecolor": "white",
            "showbackground": true,
            "ticks": "",
            "zerolinecolor": "white"
           }
          },
          "shapedefaults": {
           "line": {
            "color": "#2a3f5f"
           }
          },
          "ternary": {
           "aaxis": {
            "gridcolor": "white",
            "linecolor": "white",
            "ticks": ""
           },
           "baxis": {
            "gridcolor": "white",
            "linecolor": "white",
            "ticks": ""
           },
           "bgcolor": "#E5ECF6",
           "caxis": {
            "gridcolor": "white",
            "linecolor": "white",
            "ticks": ""
           }
          },
          "title": {
           "x": 0.05
          },
          "xaxis": {
           "automargin": true,
           "gridcolor": "white",
           "linecolor": "white",
           "ticks": "",
           "title": {
            "standoff": 15
           },
           "zerolinecolor": "white",
           "zerolinewidth": 2
          },
          "yaxis": {
           "automargin": true,
           "gridcolor": "white",
           "linecolor": "white",
           "ticks": "",
           "title": {
            "standoff": 15
           },
           "zerolinecolor": "white",
           "zerolinewidth": 2
          }
         }
        },
        "title": {
         "text": "Average Marginal Prices Per MW in Various Periods"
        },
        "xaxis": {
         "anchor": "y",
         "domain": [
          0,
          1
         ],
         "title": {
          "text": "Period"
         }
        },
        "yaxis": {
         "anchor": "x",
         "domain": [
          0,
          1
         ],
         "title": {
          "text": "value"
         }
        }
       }
      }
     },
     "metadata": {},
     "output_type": "display_data"
    }
   ],
   "source": [
    "# Change price_per_MW_Undiscounted in different cases\n",
    "# ----------------------------------------------------------------------------------------------------------------------\n",
    "\n",
    "PricePerMW = pd.DataFrame()\n",
    "PricePerMW[\"Period\"] = periods\n",
    "\n",
    "\n",
    "PricePerMW.set_index([\"Period\"],  inplace=True)\n",
    "px.line(PricePerMW, title='Average Marginal Prices Per MW in Various Periods').show()\n",
    "\n",
    "\n",
    "PricePerMW.reset_index(inplace=True)\n",
    "\n"
   ]
  }
 ],
 "metadata": {
  "kernelspec": {
   "display_name": "empire_env",
   "language": "python",
   "name": "python3"
  },
  "language_info": {
   "codemirror_mode": {
    "name": "ipython",
    "version": 3
   },
   "file_extension": ".py",
   "mimetype": "text/x-python",
   "name": "python",
   "nbconvert_exporter": "python",
   "pygments_lexer": "ipython3",
   "version": "3.11.0"
  }
 },
 "nbformat": 4,
 "nbformat_minor": 2
}
